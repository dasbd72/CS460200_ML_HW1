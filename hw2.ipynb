{
 "cells": [
  {
   "cell_type": "markdown",
   "metadata": {
    "id": "fI00-KuddN2u"
   },
   "source": [
    "Mount Google Drive (optional)\n"
   ]
  },
  {
   "cell_type": "code",
   "execution_count": 365,
   "metadata": {
    "id": "Uf6ucZcj6kpK"
   },
   "outputs": [],
   "source": [
    "# from google.colab import drive\n",
    "# drive.mount('/content/drive')\n",
    "\n",
    "# import os\n",
    "# # os.chdir(\"/content/drive/MyDrive/....\")  # file path\n",
    "# print(os.getcwd())\n"
   ]
  },
  {
   "cell_type": "markdown",
   "metadata": {
    "id": "yvRo67Io4NKF"
   },
   "source": [
    "# **HW2 : Decision Tree and Random Forest**\n",
    "\n",
    "In _assignment 2_, you need to finish :\n",
    "\n",
    "1. Basic Part : Implement a **Decision Tree** model and predict whether the patients in the validation set have diabetes\n",
    "\n",
    "   > - Step 1 : Load the input data\n",
    "   > - Step 2 : Calculate the Entropy and Information Gain\n",
    "   > - Step 3 : Find the Best Split\n",
    "   > - Step 4 : Split into 2 branches\n",
    "   > - Step 5 : Build decision tree\n",
    "   > - Step 6 : Save the answers from step2 to step5\n",
    "   > - Step 7 : Split data into training set and validation set\n",
    "   > - Step 8 : Train a decision tree model with training set\n",
    "   > - Step 9 : Predict the cases in the _validation set_ by using the model trained in _Step8_\n",
    "   > - Step 10 : Calculate the f1-score of your predictions in _Step9_\n",
    "   > - Step 11 : Write the Output File\n",
    "\n",
    "2. Advanced Part : Build a **Random Forest** model to make predictions\n",
    "   > - Step 1 : Load the input data\n",
    "   > - Step 2 : Load the test data\n",
    "   > - Step 3 : Build a random forest\n",
    "   > - Step 4 : Predict the cases in the test data by using the model trained in _Step3_\n",
    "   > - Step 5 : Save the predictions(from _Step 4_) in a csv file\n"
   ]
  },
  {
   "cell_type": "markdown",
   "metadata": {
    "id": "wwVh8lYD4kbV"
   },
   "source": [
    "# **Basic Part** (60%)\n",
    "\n",
    "In this part, your need to implement a Decision Tree model by completing the following given functions.\n",
    "\n",
    "Also, you need to run these functions with the given input variables and save the output in a csv file **hw2_basic.csv**\n"
   ]
  },
  {
   "cell_type": "markdown",
   "metadata": {
    "id": "h2ibEyDa46X2"
   },
   "source": [
    "## Import Packages\n",
    "\n",
    "> Note : You **cannot** import any other packages in both basic part and advanced part\n"
   ]
  },
  {
   "cell_type": "code",
   "execution_count": 366,
   "metadata": {
    "id": "RMjaYVZD6kmb"
   },
   "outputs": [],
   "source": [
    "import numpy as np\n",
    "import pandas as pd\n",
    "import math\n",
    "import random\n",
    "from numpy import sqrt\n",
    "from sklearn.metrics import f1_score\n",
    "from sklearn.metrics import accuracy_score\n"
   ]
  },
  {
   "cell_type": "markdown",
   "metadata": {
    "id": "zrQXqH475G8-"
   },
   "source": [
    "## Step1: Load the input data\n",
    "\n",
    "First, load the input file **hw2_input_basic.csv**\n"
   ]
  },
  {
   "cell_type": "code",
   "execution_count": 367,
   "metadata": {
    "id": "0n3gcL2l6kjb"
   },
   "outputs": [
    {
     "data": {
      "text/html": [
       "<div>\n",
       "<style scoped>\n",
       "    .dataframe tbody tr th:only-of-type {\n",
       "        vertical-align: middle;\n",
       "    }\n",
       "\n",
       "    .dataframe tbody tr th {\n",
       "        vertical-align: top;\n",
       "    }\n",
       "\n",
       "    .dataframe thead th {\n",
       "        text-align: right;\n",
       "    }\n",
       "</style>\n",
       "<table border=\"1\" class=\"dataframe\">\n",
       "  <thead>\n",
       "    <tr style=\"text-align: right;\">\n",
       "      <th></th>\n",
       "      <th>age</th>\n",
       "      <th>bmi</th>\n",
       "      <th>gender</th>\n",
       "      <th>height</th>\n",
       "      <th>weight</th>\n",
       "      <th>glucose_apache</th>\n",
       "      <th>heart_rate_apache</th>\n",
       "      <th>resprate_apache</th>\n",
       "      <th>sodium_apache</th>\n",
       "      <th>diabetes_mellitus</th>\n",
       "    </tr>\n",
       "  </thead>\n",
       "  <tbody>\n",
       "    <tr>\n",
       "      <th>0</th>\n",
       "      <td>70.0</td>\n",
       "      <td>25.984659</td>\n",
       "      <td>1</td>\n",
       "      <td>172.7</td>\n",
       "      <td>77.50</td>\n",
       "      <td>116.0</td>\n",
       "      <td>101.0</td>\n",
       "      <td>49.0</td>\n",
       "      <td>137.0</td>\n",
       "      <td>0</td>\n",
       "    </tr>\n",
       "    <tr>\n",
       "      <th>1</th>\n",
       "      <td>30.0</td>\n",
       "      <td>31.310368</td>\n",
       "      <td>1</td>\n",
       "      <td>170.2</td>\n",
       "      <td>90.70</td>\n",
       "      <td>71.0</td>\n",
       "      <td>39.0</td>\n",
       "      <td>33.0</td>\n",
       "      <td>144.0</td>\n",
       "      <td>0</td>\n",
       "    </tr>\n",
       "    <tr>\n",
       "      <th>2</th>\n",
       "      <td>54.0</td>\n",
       "      <td>24.388824</td>\n",
       "      <td>1</td>\n",
       "      <td>177.8</td>\n",
       "      <td>77.10</td>\n",
       "      <td>120.0</td>\n",
       "      <td>120.0</td>\n",
       "      <td>31.0</td>\n",
       "      <td>141.0</td>\n",
       "      <td>0</td>\n",
       "    </tr>\n",
       "    <tr>\n",
       "      <th>3</th>\n",
       "      <td>65.0</td>\n",
       "      <td>34.141074</td>\n",
       "      <td>0</td>\n",
       "      <td>170.2</td>\n",
       "      <td>98.90</td>\n",
       "      <td>73.0</td>\n",
       "      <td>48.0</td>\n",
       "      <td>36.0</td>\n",
       "      <td>140.0</td>\n",
       "      <td>1</td>\n",
       "    </tr>\n",
       "    <tr>\n",
       "      <th>4</th>\n",
       "      <td>49.0</td>\n",
       "      <td>22.564743</td>\n",
       "      <td>1</td>\n",
       "      <td>172.7</td>\n",
       "      <td>67.30</td>\n",
       "      <td>207.0</td>\n",
       "      <td>119.0</td>\n",
       "      <td>6.0</td>\n",
       "      <td>144.0</td>\n",
       "      <td>0</td>\n",
       "    </tr>\n",
       "    <tr>\n",
       "      <th>5</th>\n",
       "      <td>62.0</td>\n",
       "      <td>29.424010</td>\n",
       "      <td>0</td>\n",
       "      <td>154.9</td>\n",
       "      <td>70.60</td>\n",
       "      <td>113.0</td>\n",
       "      <td>60.0</td>\n",
       "      <td>32.0</td>\n",
       "      <td>137.0</td>\n",
       "      <td>0</td>\n",
       "    </tr>\n",
       "    <tr>\n",
       "      <th>6</th>\n",
       "      <td>85.0</td>\n",
       "      <td>27.673574</td>\n",
       "      <td>1</td>\n",
       "      <td>154.9</td>\n",
       "      <td>66.40</td>\n",
       "      <td>102.0</td>\n",
       "      <td>49.0</td>\n",
       "      <td>36.0</td>\n",
       "      <td>142.0</td>\n",
       "      <td>0</td>\n",
       "    </tr>\n",
       "    <tr>\n",
       "      <th>7</th>\n",
       "      <td>65.0</td>\n",
       "      <td>22.269432</td>\n",
       "      <td>1</td>\n",
       "      <td>177.8</td>\n",
       "      <td>70.40</td>\n",
       "      <td>333.0</td>\n",
       "      <td>59.0</td>\n",
       "      <td>6.0</td>\n",
       "      <td>145.0</td>\n",
       "      <td>1</td>\n",
       "    </tr>\n",
       "    <tr>\n",
       "      <th>8</th>\n",
       "      <td>85.0</td>\n",
       "      <td>35.879362</td>\n",
       "      <td>0</td>\n",
       "      <td>165.1</td>\n",
       "      <td>97.80</td>\n",
       "      <td>124.0</td>\n",
       "      <td>92.0</td>\n",
       "      <td>30.0</td>\n",
       "      <td>136.0</td>\n",
       "      <td>0</td>\n",
       "    </tr>\n",
       "    <tr>\n",
       "      <th>9</th>\n",
       "      <td>81.0</td>\n",
       "      <td>20.859375</td>\n",
       "      <td>0</td>\n",
       "      <td>160.0</td>\n",
       "      <td>53.40</td>\n",
       "      <td>136.0</td>\n",
       "      <td>118.0</td>\n",
       "      <td>52.0</td>\n",
       "      <td>138.0</td>\n",
       "      <td>0</td>\n",
       "    </tr>\n",
       "    <tr>\n",
       "      <th>10</th>\n",
       "      <td>59.0</td>\n",
       "      <td>46.409136</td>\n",
       "      <td>0</td>\n",
       "      <td>162.6</td>\n",
       "      <td>122.70</td>\n",
       "      <td>169.0</td>\n",
       "      <td>100.0</td>\n",
       "      <td>46.0</td>\n",
       "      <td>138.0</td>\n",
       "      <td>0</td>\n",
       "    </tr>\n",
       "    <tr>\n",
       "      <th>11</th>\n",
       "      <td>77.0</td>\n",
       "      <td>32.324734</td>\n",
       "      <td>0</td>\n",
       "      <td>154.9</td>\n",
       "      <td>77.56</td>\n",
       "      <td>264.0</td>\n",
       "      <td>90.0</td>\n",
       "      <td>37.0</td>\n",
       "      <td>141.0</td>\n",
       "      <td>1</td>\n",
       "    </tr>\n",
       "    <tr>\n",
       "      <th>12</th>\n",
       "      <td>68.0</td>\n",
       "      <td>15.913579</td>\n",
       "      <td>1</td>\n",
       "      <td>185.4</td>\n",
       "      <td>54.70</td>\n",
       "      <td>39.0</td>\n",
       "      <td>108.0</td>\n",
       "      <td>45.0</td>\n",
       "      <td>135.0</td>\n",
       "      <td>0</td>\n",
       "    </tr>\n",
       "    <tr>\n",
       "      <th>13</th>\n",
       "      <td>51.0</td>\n",
       "      <td>24.028492</td>\n",
       "      <td>1</td>\n",
       "      <td>190.5</td>\n",
       "      <td>87.20</td>\n",
       "      <td>80.0</td>\n",
       "      <td>61.0</td>\n",
       "      <td>30.0</td>\n",
       "      <td>139.0</td>\n",
       "      <td>0</td>\n",
       "    </tr>\n",
       "    <tr>\n",
       "      <th>14</th>\n",
       "      <td>76.0</td>\n",
       "      <td>34.216873</td>\n",
       "      <td>0</td>\n",
       "      <td>154.9</td>\n",
       "      <td>82.10</td>\n",
       "      <td>306.0</td>\n",
       "      <td>112.0</td>\n",
       "      <td>40.0</td>\n",
       "      <td>130.0</td>\n",
       "      <td>1</td>\n",
       "    </tr>\n",
       "    <tr>\n",
       "      <th>15</th>\n",
       "      <td>48.0</td>\n",
       "      <td>26.516476</td>\n",
       "      <td>1</td>\n",
       "      <td>180.3</td>\n",
       "      <td>86.20</td>\n",
       "      <td>96.0</td>\n",
       "      <td>133.0</td>\n",
       "      <td>31.0</td>\n",
       "      <td>137.0</td>\n",
       "      <td>0</td>\n",
       "    </tr>\n",
       "    <tr>\n",
       "      <th>16</th>\n",
       "      <td>82.0</td>\n",
       "      <td>18.921389</td>\n",
       "      <td>0</td>\n",
       "      <td>154.9</td>\n",
       "      <td>45.40</td>\n",
       "      <td>164.0</td>\n",
       "      <td>103.0</td>\n",
       "      <td>48.0</td>\n",
       "      <td>134.0</td>\n",
       "      <td>0</td>\n",
       "    </tr>\n",
       "    <tr>\n",
       "      <th>17</th>\n",
       "      <td>78.0</td>\n",
       "      <td>36.668167</td>\n",
       "      <td>0</td>\n",
       "      <td>167.6</td>\n",
       "      <td>103.00</td>\n",
       "      <td>282.0</td>\n",
       "      <td>104.0</td>\n",
       "      <td>42.0</td>\n",
       "      <td>138.0</td>\n",
       "      <td>1</td>\n",
       "    </tr>\n",
       "    <tr>\n",
       "      <th>18</th>\n",
       "      <td>62.0</td>\n",
       "      <td>19.108088</td>\n",
       "      <td>1</td>\n",
       "      <td>157.5</td>\n",
       "      <td>47.40</td>\n",
       "      <td>275.0</td>\n",
       "      <td>108.0</td>\n",
       "      <td>38.0</td>\n",
       "      <td>131.0</td>\n",
       "      <td>1</td>\n",
       "    </tr>\n",
       "    <tr>\n",
       "      <th>19</th>\n",
       "      <td>73.0</td>\n",
       "      <td>22.851562</td>\n",
       "      <td>0</td>\n",
       "      <td>160.0</td>\n",
       "      <td>58.50</td>\n",
       "      <td>178.0</td>\n",
       "      <td>154.0</td>\n",
       "      <td>55.0</td>\n",
       "      <td>138.0</td>\n",
       "      <td>1</td>\n",
       "    </tr>\n",
       "    <tr>\n",
       "      <th>20</th>\n",
       "      <td>73.0</td>\n",
       "      <td>20.351971</td>\n",
       "      <td>0</td>\n",
       "      <td>167.5</td>\n",
       "      <td>57.10</td>\n",
       "      <td>159.0</td>\n",
       "      <td>110.0</td>\n",
       "      <td>27.0</td>\n",
       "      <td>139.0</td>\n",
       "      <td>0</td>\n",
       "    </tr>\n",
       "    <tr>\n",
       "      <th>21</th>\n",
       "      <td>59.0</td>\n",
       "      <td>27.109238</td>\n",
       "      <td>1</td>\n",
       "      <td>177.8</td>\n",
       "      <td>85.70</td>\n",
       "      <td>85.0</td>\n",
       "      <td>92.0</td>\n",
       "      <td>6.0</td>\n",
       "      <td>143.0</td>\n",
       "      <td>0</td>\n",
       "    </tr>\n",
       "    <tr>\n",
       "      <th>22</th>\n",
       "      <td>51.0</td>\n",
       "      <td>37.954367</td>\n",
       "      <td>0</td>\n",
       "      <td>172.7</td>\n",
       "      <td>113.20</td>\n",
       "      <td>168.0</td>\n",
       "      <td>60.0</td>\n",
       "      <td>43.0</td>\n",
       "      <td>119.0</td>\n",
       "      <td>1</td>\n",
       "    </tr>\n",
       "    <tr>\n",
       "      <th>23</th>\n",
       "      <td>80.0</td>\n",
       "      <td>36.267895</td>\n",
       "      <td>1</td>\n",
       "      <td>180.3</td>\n",
       "      <td>117.90</td>\n",
       "      <td>138.0</td>\n",
       "      <td>178.0</td>\n",
       "      <td>43.0</td>\n",
       "      <td>140.0</td>\n",
       "      <td>1</td>\n",
       "    </tr>\n",
       "    <tr>\n",
       "      <th>24</th>\n",
       "      <td>74.0</td>\n",
       "      <td>25.856081</td>\n",
       "      <td>1</td>\n",
       "      <td>170.2</td>\n",
       "      <td>74.90</td>\n",
       "      <td>145.0</td>\n",
       "      <td>40.0</td>\n",
       "      <td>16.0</td>\n",
       "      <td>146.0</td>\n",
       "      <td>1</td>\n",
       "    </tr>\n",
       "    <tr>\n",
       "      <th>25</th>\n",
       "      <td>61.0</td>\n",
       "      <td>29.161972</td>\n",
       "      <td>1</td>\n",
       "      <td>180.3</td>\n",
       "      <td>94.80</td>\n",
       "      <td>267.0</td>\n",
       "      <td>62.0</td>\n",
       "      <td>58.0</td>\n",
       "      <td>134.0</td>\n",
       "      <td>1</td>\n",
       "    </tr>\n",
       "    <tr>\n",
       "      <th>26</th>\n",
       "      <td>74.0</td>\n",
       "      <td>38.111136</td>\n",
       "      <td>1</td>\n",
       "      <td>188.0</td>\n",
       "      <td>134.70</td>\n",
       "      <td>279.0</td>\n",
       "      <td>112.0</td>\n",
       "      <td>43.0</td>\n",
       "      <td>132.0</td>\n",
       "      <td>1</td>\n",
       "    </tr>\n",
       "    <tr>\n",
       "      <th>27</th>\n",
       "      <td>65.0</td>\n",
       "      <td>53.414791</td>\n",
       "      <td>0</td>\n",
       "      <td>166.4</td>\n",
       "      <td>147.90</td>\n",
       "      <td>121.0</td>\n",
       "      <td>88.0</td>\n",
       "      <td>32.0</td>\n",
       "      <td>142.0</td>\n",
       "      <td>0</td>\n",
       "    </tr>\n",
       "    <tr>\n",
       "      <th>28</th>\n",
       "      <td>38.0</td>\n",
       "      <td>33.438787</td>\n",
       "      <td>0</td>\n",
       "      <td>161.3</td>\n",
       "      <td>87.00</td>\n",
       "      <td>135.0</td>\n",
       "      <td>46.0</td>\n",
       "      <td>28.0</td>\n",
       "      <td>138.0</td>\n",
       "      <td>0</td>\n",
       "    </tr>\n",
       "    <tr>\n",
       "      <th>29</th>\n",
       "      <td>82.0</td>\n",
       "      <td>32.263238</td>\n",
       "      <td>0</td>\n",
       "      <td>162.6</td>\n",
       "      <td>85.30</td>\n",
       "      <td>111.0</td>\n",
       "      <td>114.0</td>\n",
       "      <td>22.0</td>\n",
       "      <td>143.0</td>\n",
       "      <td>1</td>\n",
       "    </tr>\n",
       "  </tbody>\n",
       "</table>\n",
       "</div>"
      ],
      "text/plain": [
       "     age        bmi  gender  height  weight  glucose_apache  \\\n",
       "0   70.0  25.984659       1   172.7   77.50           116.0   \n",
       "1   30.0  31.310368       1   170.2   90.70            71.0   \n",
       "2   54.0  24.388824       1   177.8   77.10           120.0   \n",
       "3   65.0  34.141074       0   170.2   98.90            73.0   \n",
       "4   49.0  22.564743       1   172.7   67.30           207.0   \n",
       "5   62.0  29.424010       0   154.9   70.60           113.0   \n",
       "6   85.0  27.673574       1   154.9   66.40           102.0   \n",
       "7   65.0  22.269432       1   177.8   70.40           333.0   \n",
       "8   85.0  35.879362       0   165.1   97.80           124.0   \n",
       "9   81.0  20.859375       0   160.0   53.40           136.0   \n",
       "10  59.0  46.409136       0   162.6  122.70           169.0   \n",
       "11  77.0  32.324734       0   154.9   77.56           264.0   \n",
       "12  68.0  15.913579       1   185.4   54.70            39.0   \n",
       "13  51.0  24.028492       1   190.5   87.20            80.0   \n",
       "14  76.0  34.216873       0   154.9   82.10           306.0   \n",
       "15  48.0  26.516476       1   180.3   86.20            96.0   \n",
       "16  82.0  18.921389       0   154.9   45.40           164.0   \n",
       "17  78.0  36.668167       0   167.6  103.00           282.0   \n",
       "18  62.0  19.108088       1   157.5   47.40           275.0   \n",
       "19  73.0  22.851562       0   160.0   58.50           178.0   \n",
       "20  73.0  20.351971       0   167.5   57.10           159.0   \n",
       "21  59.0  27.109238       1   177.8   85.70            85.0   \n",
       "22  51.0  37.954367       0   172.7  113.20           168.0   \n",
       "23  80.0  36.267895       1   180.3  117.90           138.0   \n",
       "24  74.0  25.856081       1   170.2   74.90           145.0   \n",
       "25  61.0  29.161972       1   180.3   94.80           267.0   \n",
       "26  74.0  38.111136       1   188.0  134.70           279.0   \n",
       "27  65.0  53.414791       0   166.4  147.90           121.0   \n",
       "28  38.0  33.438787       0   161.3   87.00           135.0   \n",
       "29  82.0  32.263238       0   162.6   85.30           111.0   \n",
       "\n",
       "    heart_rate_apache  resprate_apache  sodium_apache  diabetes_mellitus  \n",
       "0               101.0             49.0          137.0                  0  \n",
       "1                39.0             33.0          144.0                  0  \n",
       "2               120.0             31.0          141.0                  0  \n",
       "3                48.0             36.0          140.0                  1  \n",
       "4               119.0              6.0          144.0                  0  \n",
       "5                60.0             32.0          137.0                  0  \n",
       "6                49.0             36.0          142.0                  0  \n",
       "7                59.0              6.0          145.0                  1  \n",
       "8                92.0             30.0          136.0                  0  \n",
       "9               118.0             52.0          138.0                  0  \n",
       "10              100.0             46.0          138.0                  0  \n",
       "11               90.0             37.0          141.0                  1  \n",
       "12              108.0             45.0          135.0                  0  \n",
       "13               61.0             30.0          139.0                  0  \n",
       "14              112.0             40.0          130.0                  1  \n",
       "15              133.0             31.0          137.0                  0  \n",
       "16              103.0             48.0          134.0                  0  \n",
       "17              104.0             42.0          138.0                  1  \n",
       "18              108.0             38.0          131.0                  1  \n",
       "19              154.0             55.0          138.0                  1  \n",
       "20              110.0             27.0          139.0                  0  \n",
       "21               92.0              6.0          143.0                  0  \n",
       "22               60.0             43.0          119.0                  1  \n",
       "23              178.0             43.0          140.0                  1  \n",
       "24               40.0             16.0          146.0                  1  \n",
       "25               62.0             58.0          134.0                  1  \n",
       "26              112.0             43.0          132.0                  1  \n",
       "27               88.0             32.0          142.0                  0  \n",
       "28               46.0             28.0          138.0                  0  \n",
       "29              114.0             22.0          143.0                  1  "
      ]
     },
     "execution_count": 367,
     "metadata": {},
     "output_type": "execute_result"
    }
   ],
   "source": [
    "input_data = pd.read_csv('hw2_input_basic.csv')\n",
    "input_data\n"
   ]
  },
  {
   "cell_type": "markdown",
   "metadata": {
    "id": "BhtqUTG9Nlyz"
   },
   "source": [
    "## Global attributes\n",
    "\n",
    "Define the global attributes\n",
    "\n",
    "> Note : You **cannot** modify the values of these attributes we given in the basic part\n"
   ]
  },
  {
   "cell_type": "code",
   "execution_count": 368,
   "metadata": {
    "id": "etfPC94oN_TO"
   },
   "outputs": [],
   "source": [
    "max_depth = 2\n",
    "depth = 0\n",
    "min_samples_split = 2\n",
    "n_features = input_data.shape[1] - 1\n"
   ]
  },
  {
   "cell_type": "markdown",
   "metadata": {
    "id": "V1FN1Z-tOFOo"
   },
   "source": [
    "> You can add your own global attributes here\n"
   ]
  },
  {
   "cell_type": "code",
   "execution_count": 369,
   "metadata": {
    "id": "KQ-OYop8ONnv"
   },
   "outputs": [],
   "source": [
    "Y_FEATURE = 'diabetes_mellitus'\n"
   ]
  },
  {
   "cell_type": "markdown",
   "metadata": {
    "id": "Gey7t_Yx5YML"
   },
   "source": [
    "## Step2 : Calculate the Entropy and Information Gain\n",
    "\n",
    "Calculate the information gain and entropy values before separate data into left subtree and right subtree\n"
   ]
  },
  {
   "cell_type": "code",
   "execution_count": 370,
   "metadata": {
    "id": "hpdNz3ij6keH"
   },
   "outputs": [
    {
     "name": "stdout",
     "output_type": "stream",
     "text": [
      "ans_entropy =  0.9871377743721863\n"
     ]
    }
   ],
   "source": [
    "def entropy(data):\n",
    "  \"\"\"\n",
    "  This function measures the amount of uncertainty in a probability distribution\n",
    "  args: \n",
    "  * data(type: DataFrame): the data you're calculating for the entropy\n",
    "  return:\n",
    "  * entropy_value(type: float): the data's entropy\n",
    "  \"\"\"\n",
    "\n",
    "  p = data[Y_FEATURE].sum(axis=0) / data[Y_FEATURE].shape[0]\n",
    "  entropy_value = 0\n",
    "  if (p != 1 and p != 0):\n",
    "    entropy_value = -p * math.log2(p) - (1 - p) * math.log2(1 - p)\n",
    "\n",
    "  return entropy_value\n",
    "\n",
    "\n",
    "# [Note] You have to save the value of \"ans_entropy\" into the output file\n",
    "ans_entropy = entropy(input_data)\n",
    "print(\"ans_entropy = \", ans_entropy)\n"
   ]
  },
  {
   "cell_type": "code",
   "execution_count": 371,
   "metadata": {
    "id": "zCC_SiU26kbX"
   },
   "outputs": [
    {
     "name": "stdout",
     "output_type": "stream",
     "text": [
      "ans_informationGain =  0.0834598868480716\n"
     ]
    }
   ],
   "source": [
    "def information_gain(data, mask):\n",
    "  \"\"\"\n",
    "  This function will calculate the information gain\n",
    "  args:\n",
    "  * data(type: DataFrame): the data you're calculating for the information gain\n",
    "  * mask(type: Series): partition information(left/right) of current input data, \n",
    "    - boolean 1(True) represents split to left subtree\n",
    "    - boolean 0(False) represents split to right subtree\n",
    "  return:\n",
    "  * ig(type: float): the information gain you can obtain by classify data with this given mask\n",
    "  \"\"\"\n",
    "\n",
    "  entropy_before = entropy(data)\n",
    "  left_ratio = mask.sum(axis=0) / mask.shape[0]\n",
    "  entropy_after = left_ratio * entropy(data[mask]) + (1 - left_ratio) * entropy(data[~mask])\n",
    "  ig = entropy_before - entropy_after\n",
    "\n",
    "  return ig\n",
    "\n",
    "\n",
    "# [Note] You have to save the value of \"ans_informationGain\" into your output file\n",
    "temp1 = np.zeros((int(input_data.shape[0] / 4), 1), dtype=bool)\n",
    "temp2 = np.ones(((input_data.shape[0] - int(input_data.shape[0] / 4), 1)), dtype=bool)\n",
    "temp_mask = np.concatenate((temp1, temp2))\n",
    "df_mask = pd.DataFrame(temp_mask, columns=['mask'])\n",
    "ans_informationGain = information_gain(input_data, df_mask['mask'])\n",
    "print(\"ans_informationGain = \", ans_informationGain)\n"
   ]
  },
  {
   "cell_type": "markdown",
   "metadata": {
    "id": "9r8mrn7A55if"
   },
   "source": [
    "## Step3 : Find the Best Split\n",
    "\n",
    "Find the best split combination, **feature** and **threshold**, by calculating the information gain\n"
   ]
  },
  {
   "cell_type": "code",
   "execution_count": 372,
   "metadata": {
    "id": "D6gg7ig18XgM"
   },
   "outputs": [
    {
     "name": "stdout",
     "output_type": "stream",
     "text": [
      "ans_ig =  0.3522950515812332\n",
      "ans_value =  235.5\n",
      "ans_name =  glucose_apache\n"
     ]
    }
   ],
   "source": [
    "def find_best_split(data):\n",
    "  \"\"\"\n",
    "  This function will find the best split combination of data\n",
    "  args:\n",
    "  * data(type: DataFrame): the input data\n",
    "  return\n",
    "  * best_ig(type: float): the best information gain you obtain\n",
    "  * best_threshold(type: float): the value that splits data into 2 branches\n",
    "  * best_feature(type: string): the feature that splits data into 2 branches\n",
    "  \"\"\"\n",
    "\n",
    "  best_ig = 0\n",
    "  best_threshold = 0\n",
    "  best_feature = 0\n",
    "\n",
    "  # All\n",
    "  for feature in list(data.columns):\n",
    "    if (feature == Y_FEATURE):\n",
    "      continue\n",
    "    thresholds = data[feature].unique()\n",
    "    thresholds = np.sort(thresholds)\n",
    "    thresholds = (thresholds[:-1] + thresholds[1:]) / 2\n",
    "    for threshold in thresholds:\n",
    "      mask_leq = data[feature] <= threshold\n",
    "      if (mask_leq.sum() == 0 or (~mask_leq).sum() == 0):\n",
    "        continue\n",
    "      ig = information_gain(data, mask_leq)\n",
    "      if (ig > best_ig):\n",
    "        best_ig = ig\n",
    "        best_threshold = threshold\n",
    "        best_feature = feature\n",
    "  \n",
    "  # for feature in list(data.columns):\n",
    "  #   if (feature == Y_FEATURE):\n",
    "  #     continue\n",
    "  #   thresholds = data[feature].quantile(np.arange(start=step, stop=1, step=step))\n",
    "  #   for threshold in thresholds:\n",
    "  #     mask_leq = data[feature] <= threshold\n",
    "  #     if (mask_leq.sum() == 0 or (~mask_leq).sum() == 0):\n",
    "  #       continue\n",
    "  #     ig = information_gain(data, mask_leq)\n",
    "  #     if (ig > best_ig):\n",
    "  #       best_ig = ig\n",
    "  #       best_threshold = threshold\n",
    "  #       best_feature = feature\n",
    "\n",
    "  return best_ig, best_threshold, best_feature\n",
    "\n",
    "# [Note] You have to save the value of \"ans_ig\", \"ans_value\", and \"ans_name\" into the output file\n",
    "ans_ig, ans_value, ans_name = find_best_split(input_data)\n",
    "print(\"ans_ig = \", ans_ig)\n",
    "print(\"ans_value = \", ans_value)\n",
    "print(\"ans_name = \", ans_name)\n"
   ]
  },
  {
   "cell_type": "markdown",
   "metadata": {
    "id": "61hPUYvy6MTB"
   },
   "source": [
    "## Step4 : Split into 2 branches\n",
    "\n",
    "Using the best split combination you find in function _find_best_split()_ to split data into Left Subtree and Right Subtree\n"
   ]
  },
  {
   "cell_type": "code",
   "execution_count": 373,
   "metadata": {
    "id": "KQRcjzCLCo4R"
   },
   "outputs": [
    {
     "name": "stdout",
     "output_type": "stream",
     "text": [
      "ans_left =  10\n"
     ]
    }
   ],
   "source": [
    "def make_partition(data, feature, threshold):\n",
    "  \"\"\"\n",
    "  This function will split the data into 2 branches\n",
    "  args:\n",
    "  * data(type: DataFrame): the input data\n",
    "  * feature(type: string): the attribute(column name)\n",
    "  * threshold(type: float): the threshold for splitting the data\n",
    "  return:\n",
    "  * left(type: DataFrame): the divided data that matches(less than or equal to) the assigned feature's threshold\n",
    "  * right(type: DataFrame): the divided data that doesn't match the assigned feature's threshold\n",
    "  \"\"\"\n",
    "\n",
    "  mask_leq = data[feature] <= threshold\n",
    "  left = data[mask_leq]\n",
    "  right = data[~mask_leq]\n",
    "\n",
    "  return left, right\n",
    "\n",
    "\n",
    "# [Note] You have to save the value of \"ans_left\" into the output file\n",
    "left, right = make_partition(input_data, 'age', 61.0)\n",
    "ans_left = left.shape[0]\n",
    "print(\"ans_left = \", ans_left)\n"
   ]
  },
  {
   "cell_type": "markdown",
   "metadata": {
    "id": "GLzy6Yhg802x"
   },
   "source": [
    "## Step5 : Build Decision Tree\n",
    "\n",
    "Use the above functions to implement the decision tree\n",
    "\n",
    "Instructions:\n",
    "\n",
    "1.  If current depth < max_depth and the remaining number of samples > min_samples_split: continue to classify those samples\n",
    "2.  Use function _find_best_split()_ to find the best split combination\n",
    "3.  If the obtained information gain is **greater than 0**: can build a deeper decision tree (add depth)\n",
    "4.  Use function _make_partition()_ to split the data into two parts\n",
    "5.  Save the features and corresponding thresholds (starting from the root) used by the decision tree into _ans_features[]_ and _ans_thresholds[]_ respectively\n"
   ]
  },
  {
   "cell_type": "code",
   "execution_count": 374,
   "metadata": {
    "id": "_OAXVddKkvM2"
   },
   "outputs": [],
   "source": [
    "def build_tree(data, max_depth, min_samples_split, depth):\n",
    "  \"\"\"\n",
    "  This function will build the decision tree\n",
    "  args:\n",
    "  * data(type: DataFrame): the data you want to apply to the decision tree\n",
    "  * max_depth: the maximum depth of a decision tree\n",
    "  * min_samples_split: the minimum number of instances required to do partition\n",
    "  * depth: the height of the current decision tree\n",
    "  return:\n",
    "  * subtree: the decision tree structure including root, branch, and leaf (with the attributes and thresholds)\n",
    "  \"\"\"\n",
    "\n",
    "  # check the condition of current depth and the remaining number of samples\n",
    "  if depth < max_depth and data.shape[0] >= min_samples_split:\n",
    "    # call find_best_split() to find the best combination\n",
    "    ig, threshold, feature = find_best_split(data)\n",
    "    # check the value of information gain is greater than 0 or not\n",
    "    if ig > 0:\n",
    "      # update the depth\n",
    "      # call make_partition() to split the data into two parts\n",
    "      left_data, right_data = make_partition(data, feature, threshold)\n",
    "      # If there is no data split to the left tree OR no data split to the left tree\n",
    "      if left_data.shape[0] == 0 or right_data.shape[0] == 0:\n",
    "        # return the label of the majority\n",
    "        label = int(data[Y_FEATURE].sum() > (~data[Y_FEATURE].astype(bool)).sum())\n",
    "        return label\n",
    "      else:\n",
    "        question = \"{} {} {}\".format(feature, \"<=\", threshold)\n",
    "        subtree = {question: []}\n",
    "\n",
    "        # call function build_tree() to recursively build the left subtree and right subtree\n",
    "        left_subtree = build_tree(left_data, max_depth, min_samples_split, depth + 1)\n",
    "        right_subtree = build_tree(right_data, max_depth, min_samples_split, depth + 1)\n",
    "        if left_subtree == right_subtree:\n",
    "          subtree = left_subtree\n",
    "        else:\n",
    "          subtree[question].append(left_subtree)\n",
    "          subtree[question].append(right_subtree)\n",
    "    else:\n",
    "      # return the label of the majority\n",
    "      label = int(data[Y_FEATURE].sum() > (~data[Y_FEATURE].astype(bool)).sum())\n",
    "      return label\n",
    "  else:\n",
    "    # return the label of the majority\n",
    "    label = int(data[Y_FEATURE].sum() > (~data[Y_FEATURE].astype(bool)).sum())\n",
    "    return label\n",
    "\n",
    "  return subtree\n"
   ]
  },
  {
   "cell_type": "markdown",
   "metadata": {
    "id": "qlIrw9Gu-M9-"
   },
   "source": [
    "An example of the output from _build_tree()_\n",
    "\n",
    "```\n",
    "{'bmi <= 33.5': [1, {'age <= 68.5': [0, 1]}]}\n",
    "```\n",
    "\n",
    "Therefore,\n",
    "\n",
    "```\n",
    "ans_features = ['bmi', 'age']\n",
    "ans_thresholds = [33.5, 68.5]\n",
    "```\n"
   ]
  },
  {
   "cell_type": "code",
   "execution_count": 375,
   "metadata": {
    "id": "QW8wm1rD9dlS"
   },
   "outputs": [
    {
     "data": {
      "text/plain": [
       "{'glucose_apache <= 235.5': [{'heart_rate_apache <= 143.5': [0, 1]}, 1]}"
      ]
     },
     "execution_count": 375,
     "metadata": {},
     "output_type": "execute_result"
    }
   ],
   "source": [
    "ans_features = []\n",
    "ans_thresholds = []\n",
    "\n",
    "decisionTree = build_tree(input_data, max_depth, min_samples_split, depth)\n",
    "decisionTree\n"
   ]
  },
  {
   "cell_type": "code",
   "execution_count": 376,
   "metadata": {
    "id": "v_n0BfNSGejN"
   },
   "outputs": [
    {
     "name": "stdout",
     "output_type": "stream",
     "text": [
      "['glucose_apache', 'heart_rate_apache']\n"
     ]
    }
   ],
   "source": [
    "# [Note] You have to save the features in the \"decisionTree\" structure (from root to branch and leaf) into the output file\n",
    "ans_features = []\n",
    "\n",
    "cur_decisionTree = decisionTree\n",
    "while (isinstance(cur_decisionTree, dict)):\n",
    "  ans_features.append(list(cur_decisionTree.keys())[0].split()[0])\n",
    "  left_tree = list(cur_decisionTree.values())[0][0]\n",
    "  right_tree = list(cur_decisionTree.values())[0][1]\n",
    "  if isinstance(right_tree, dict):\n",
    "    cur_decisionTree = right_tree\n",
    "  elif isinstance(left_tree, dict):\n",
    "    cur_decisionTree = left_tree\n",
    "  else:\n",
    "    break\n",
    "\n",
    "print(ans_features)\n"
   ]
  },
  {
   "cell_type": "code",
   "execution_count": 377,
   "metadata": {
    "id": "D6H9zkN_GgK-"
   },
   "outputs": [
    {
     "name": "stdout",
     "output_type": "stream",
     "text": [
      "['235.5', '143.5']\n"
     ]
    }
   ],
   "source": [
    "# [Note] You have to save the corresponding thresholds for the features in the \"ans_features\" list into the output file\n",
    "ans_thresholds = []\n",
    "\n",
    "cur_decisionTree = decisionTree\n",
    "while (isinstance(cur_decisionTree, dict)):\n",
    "  ans_thresholds.append(list(cur_decisionTree.keys())[0].split()[2])\n",
    "  left_tree = list(cur_decisionTree.values())[0][0]\n",
    "  right_tree = list(cur_decisionTree.values())[0][1]\n",
    "  if isinstance(right_tree, dict):\n",
    "    cur_decisionTree = right_tree\n",
    "  elif isinstance(left_tree, dict):\n",
    "    cur_decisionTree = left_tree\n",
    "  else:\n",
    "    break\n",
    "\n",
    "print(ans_thresholds)\n"
   ]
  },
  {
   "cell_type": "markdown",
   "metadata": {
    "id": "rP0SU7tTweOX"
   },
   "source": [
    "## Step6 : Save answers\n"
   ]
  },
  {
   "cell_type": "code",
   "execution_count": 378,
   "metadata": {
    "id": "sDO36kKEwh6C"
   },
   "outputs": [],
   "source": [
    "basic = []\n",
    "basic.append(ans_entropy)\n",
    "basic.append(ans_informationGain)\n",
    "basic.append(ans_ig)\n",
    "basic.append(ans_value)\n",
    "basic.append(ans_name)\n",
    "basic.append(ans_left)\n",
    "for i in range(len(ans_features)):\n",
    "  basic.append(ans_features[i])\n",
    "for m in range(len(ans_thresholds)):\n",
    "  basic.append(ans_thresholds[m])\n"
   ]
  },
  {
   "cell_type": "markdown",
   "metadata": {
    "id": "7DotyrSZjYKi"
   },
   "source": [
    "## Step7 : Split data\n",
    "\n",
    "Split data into training set and validation set\n",
    "\n",
    "> Note: We have split the data into training set and validation. You **cannot** change the distribution of the data.\n"
   ]
  },
  {
   "cell_type": "code",
   "execution_count": 379,
   "metadata": {
    "id": "WjNM-n4i5mlG"
   },
   "outputs": [
    {
     "name": "stdout",
     "output_type": "stream",
     "text": [
      "(30, 10)\n",
      "(20, 10)\n",
      "(10, 10)\n"
     ]
    }
   ],
   "source": [
    "num_train = 20\n",
    "num_validation = 10\n",
    "\n",
    "training_data = input_data.iloc[:num_train]\n",
    "validation_data = input_data.iloc[-num_validation:]\n",
    "\n",
    "y_train = training_data[[\"diabetes_mellitus\"]]\n",
    "x_train = training_data.drop(['diabetes_mellitus'], axis=1)\n",
    "y_validation = validation_data[[\"diabetes_mellitus\"]]\n",
    "x_validation = validation_data.drop(['diabetes_mellitus'], axis=1)\n",
    "y_validation = y_validation.values.flatten()\n",
    "\n",
    "print(input_data.shape)\n",
    "print(training_data.shape)\n",
    "print(validation_data.shape)\n"
   ]
  },
  {
   "cell_type": "markdown",
   "metadata": {
    "id": "GfKSt2gH74Uu"
   },
   "source": [
    "## Step8 to Step10 : Make predictions with a decision tree\n"
   ]
  },
  {
   "cell_type": "markdown",
   "metadata": {
    "id": "BZqSVoJ48a3-"
   },
   "source": [
    "Define the attributions of the decision tree\n",
    "\n",
    "> You **cannot** modify the values of these attributes in this part\n"
   ]
  },
  {
   "cell_type": "code",
   "execution_count": 380,
   "metadata": {
    "id": "vSlZ7FVB8eau"
   },
   "outputs": [],
   "source": [
    "max_depth = 2\n",
    "depth = 0\n",
    "min_samples_split = 2\n",
    "n_features = x_train.shape[1]\n"
   ]
  },
  {
   "cell_type": "markdown",
   "metadata": {
    "id": "FrK-YqLmLH8p"
   },
   "source": [
    "We have finished the function '_classify_data()_' below, however, you can modify this function if you prefer completing it on your own way.\n"
   ]
  },
  {
   "cell_type": "code",
   "execution_count": 381,
   "metadata": {
    "id": "0piZ0blpFXVq"
   },
   "outputs": [],
   "source": [
    "def classify_data(instance, tree):\n",
    "  \"\"\"\n",
    "  This function will predict/classify the input instance\n",
    "  args:\n",
    "  * instance: a instance(case) to be predicted\n",
    "  return:\n",
    "  * answer: the prediction result (the classification result)\n",
    "  \"\"\"\n",
    "  if (isinstance(tree, dict)):\n",
    "    equation = list(tree.keys())[0]\n",
    "    if equation.split()[1] == '<=':\n",
    "      temp_feature = equation.split()[0]\n",
    "      temp_threshold = equation.split()[2]\n",
    "      if instance[temp_feature] > float(temp_threshold):\n",
    "        answer = tree[equation][1]\n",
    "      else:\n",
    "        answer = tree[equation][0]\n",
    "    else:\n",
    "      if instance[equation.split()[0]] in (equation.split()[2]):\n",
    "        answer = tree[equation][0]\n",
    "      else:\n",
    "        answer = tree[equation][1]\n",
    "\n",
    "    if not isinstance(answer, dict):\n",
    "      return answer\n",
    "    else:\n",
    "      return classify_data(instance, answer)\n",
    "  elif (isinstance(tree, int)):\n",
    "    return tree\n",
    "  else:\n",
    "    return random.randint(0, 1)\n",
    "\n",
    "\n",
    "def make_prediction(tree, data):\n",
    "  \"\"\"\n",
    "  This function will use your pre-trained decision tree to predict the labels of all instances in data\n",
    "  args:\n",
    "  * tree: the decision tree\n",
    "  * data: the data to predict\n",
    "  return:\n",
    "  * y_prediction: the predictions\n",
    "  \"\"\"\n",
    "\n",
    "  # [Note] You can call the function classify_data() to predict the label of each instance\n",
    "  y_prediction = pd.DataFrame(\n",
    "    np.zeros((data.shape[0], 1)), index=data.index, columns=[Y_FEATURE], dtype=int)\n",
    "\n",
    "  for index in data.index:\n",
    "    y_prediction.loc[index] = classify_data(data.loc[index], tree)\n",
    "\n",
    "  return y_prediction.values.flatten()\n",
    "\n",
    "\n",
    "def calculate_score(y_true, y_pred):\n",
    "  \"\"\"\n",
    "  This function will calculate the f1-score of the predictions\n",
    "  args:\n",
    "  * y_true: the ground truth\n",
    "  * y_pred: the predictions\n",
    "  return:\n",
    "  * score: the f1-score\n",
    "  \"\"\"\n",
    "\n",
    "  score = f1_score(y_true, y_pred)\n",
    "\n",
    "  return score\n"
   ]
  },
  {
   "cell_type": "code",
   "execution_count": 382,
   "metadata": {
    "id": "3IEu3z3s9TDu"
   },
   "outputs": [
    {
     "name": "stdout",
     "output_type": "stream",
     "text": [
      "ans_f1score =  0.6666666666666666\n"
     ]
    }
   ],
   "source": [
    "decision_tree = build_tree(training_data, max_depth, min_samples_split, depth)\n",
    "\n",
    "y_pred = make_prediction(decision_tree, x_validation)\n",
    "\n",
    "# [Note] You have to save the value of \"ans_f1score\" the your output file\n",
    "ans_f1score = calculate_score(y_validation, y_pred)\n",
    "print(\"ans_f1score = \", ans_f1score)\n"
   ]
  },
  {
   "cell_type": "markdown",
   "metadata": {
    "id": "IzzOKOwn-kod"
   },
   "source": [
    "## Step11 : Write the Output File\n",
    "\n",
    "Save all of your answers in a csv file, named as **hw2_basic.csv**\n"
   ]
  },
  {
   "cell_type": "code",
   "execution_count": 383,
   "metadata": {
    "id": "p0zsaWPL2qXn"
   },
   "outputs": [
    {
     "name": "stdout",
     "output_type": "stream",
     "text": [
      "[0.9871377743721863, 0.0834598868480716, 0.3522950515812332, 235.5, 'glucose_apache', 10, 'glucose_apache', 'heart_rate_apache', '235.5', '143.5', 0.6666666666666666]\n"
     ]
    }
   ],
   "source": [
    "ans_path = 'hw2_basic.csv'\n",
    "\n",
    "# [Note] You have to save the value of \"ans_f1score\" into the output file\n",
    "basic.append(ans_f1score)\n",
    "print(basic)\n",
    "\n",
    "pd.DataFrame(basic).to_csv(ans_path, header=None, index=None)\n"
   ]
  },
  {
   "cell_type": "markdown",
   "metadata": {
    "id": "tV25IjM7_aEn"
   },
   "source": [
    "# **Advanced Part** (35%)\n"
   ]
  },
  {
   "cell_type": "markdown",
   "metadata": {
    "id": "knH1Ih0Pha7X"
   },
   "source": [
    "## Step1: Load the input data\n",
    "\n",
    "First, load the input file **hw2_input_advanced.csv**\n"
   ]
  },
  {
   "cell_type": "code",
   "execution_count": 384,
   "metadata": {
    "id": "FthBdLxRhi9W"
   },
   "outputs": [],
   "source": [
    "advanced_data = pd.read_csv('hw2_input_advanced.csv')\n"
   ]
  },
  {
   "cell_type": "markdown",
   "metadata": {
    "id": "vqLH49oBndRh"
   },
   "source": [
    "You can split _advanced_data_ into training set and validaiton set\n"
   ]
  },
  {
   "cell_type": "code",
   "execution_count": 385,
   "metadata": {
    "id": "9l0hLPVjncam"
   },
   "outputs": [],
   "source": [
    "advanced_data_size = advanced_data.shape[0]\n",
    "validation_ratio = 0.2\n",
    "num_train = math.ceil(advanced_data_size * (1 - validation_ratio))\n",
    "num_validation = advanced_data_size - num_train\n",
    "training_data = advanced_data.iloc[:num_train]\n",
    "training_data = advanced_data\n",
    "validation_data = advanced_data.iloc[-num_validation:]\n",
    "\n",
    "y_train = training_data[[Y_FEATURE]]\n",
    "x_train = training_data.drop([Y_FEATURE], axis=1)\n",
    "y_validation = validation_data[[Y_FEATURE]]\n",
    "x_validation = validation_data.drop([Y_FEATURE], axis=1)\n",
    "y_validation = y_validation.values.flatten()\n"
   ]
  },
  {
   "cell_type": "markdown",
   "metadata": {
    "id": "tFgbUY_ajVOK"
   },
   "source": [
    "## Step2 : Load the test data\n",
    "\n",
    "Load the input file **hw2_input_test.csv** to make predictions with the pre-trained random forest model\n"
   ]
  },
  {
   "cell_type": "code",
   "execution_count": 386,
   "metadata": {
    "id": "3hW542KWNxVF"
   },
   "outputs": [
    {
     "data": {
      "text/html": [
       "<div>\n",
       "<style scoped>\n",
       "    .dataframe tbody tr th:only-of-type {\n",
       "        vertical-align: middle;\n",
       "    }\n",
       "\n",
       "    .dataframe tbody tr th {\n",
       "        vertical-align: top;\n",
       "    }\n",
       "\n",
       "    .dataframe thead th {\n",
       "        text-align: right;\n",
       "    }\n",
       "</style>\n",
       "<table border=\"1\" class=\"dataframe\">\n",
       "  <thead>\n",
       "    <tr style=\"text-align: right;\">\n",
       "      <th></th>\n",
       "      <th>age</th>\n",
       "      <th>bmi</th>\n",
       "      <th>gender</th>\n",
       "      <th>height</th>\n",
       "      <th>weight</th>\n",
       "      <th>arf_apache</th>\n",
       "      <th>bun_apache</th>\n",
       "      <th>creatinine_apache</th>\n",
       "      <th>gcs_eyes_apache</th>\n",
       "      <th>gcs_motor_apache</th>\n",
       "      <th>...</th>\n",
       "      <th>hematocrit_apache</th>\n",
       "      <th>intubated_apache</th>\n",
       "      <th>map_apache</th>\n",
       "      <th>resprate_apache</th>\n",
       "      <th>sodium_apache</th>\n",
       "      <th>temp_apache</th>\n",
       "      <th>ventilated_apache</th>\n",
       "      <th>wbc_apache</th>\n",
       "      <th>apache_4a_hospital_death_prob</th>\n",
       "      <th>apache_4a_icu_death_prob</th>\n",
       "    </tr>\n",
       "  </thead>\n",
       "  <tbody>\n",
       "    <tr>\n",
       "      <th>0</th>\n",
       "      <td>62</td>\n",
       "      <td>32.866392</td>\n",
       "      <td>1</td>\n",
       "      <td>177.80</td>\n",
       "      <td>103.9</td>\n",
       "      <td>1</td>\n",
       "      <td>31.0</td>\n",
       "      <td>10.30</td>\n",
       "      <td>4</td>\n",
       "      <td>6</td>\n",
       "      <td>...</td>\n",
       "      <td>36.4</td>\n",
       "      <td>0</td>\n",
       "      <td>157</td>\n",
       "      <td>26</td>\n",
       "      <td>134</td>\n",
       "      <td>36.1</td>\n",
       "      <td>0</td>\n",
       "      <td>4.56</td>\n",
       "      <td>0.06</td>\n",
       "      <td>0.03</td>\n",
       "    </tr>\n",
       "    <tr>\n",
       "      <th>1</th>\n",
       "      <td>82</td>\n",
       "      <td>23.582766</td>\n",
       "      <td>0</td>\n",
       "      <td>157.50</td>\n",
       "      <td>58.5</td>\n",
       "      <td>0</td>\n",
       "      <td>26.0</td>\n",
       "      <td>0.54</td>\n",
       "      <td>3</td>\n",
       "      <td>4</td>\n",
       "      <td>...</td>\n",
       "      <td>32.8</td>\n",
       "      <td>0</td>\n",
       "      <td>42</td>\n",
       "      <td>25</td>\n",
       "      <td>142</td>\n",
       "      <td>36.1</td>\n",
       "      <td>0</td>\n",
       "      <td>6.00</td>\n",
       "      <td>0.14</td>\n",
       "      <td>0.06</td>\n",
       "    </tr>\n",
       "    <tr>\n",
       "      <th>2</th>\n",
       "      <td>61</td>\n",
       "      <td>31.684520</td>\n",
       "      <td>1</td>\n",
       "      <td>172.70</td>\n",
       "      <td>94.5</td>\n",
       "      <td>0</td>\n",
       "      <td>16.0</td>\n",
       "      <td>1.11</td>\n",
       "      <td>4</td>\n",
       "      <td>6</td>\n",
       "      <td>...</td>\n",
       "      <td>35.3</td>\n",
       "      <td>0</td>\n",
       "      <td>129</td>\n",
       "      <td>6</td>\n",
       "      <td>131</td>\n",
       "      <td>36.8</td>\n",
       "      <td>0</td>\n",
       "      <td>8.59</td>\n",
       "      <td>0.05</td>\n",
       "      <td>0.03</td>\n",
       "    </tr>\n",
       "    <tr>\n",
       "      <th>3</th>\n",
       "      <td>58</td>\n",
       "      <td>45.156250</td>\n",
       "      <td>0</td>\n",
       "      <td>160.00</td>\n",
       "      <td>115.6</td>\n",
       "      <td>0</td>\n",
       "      <td>19.0</td>\n",
       "      <td>0.70</td>\n",
       "      <td>1</td>\n",
       "      <td>4</td>\n",
       "      <td>...</td>\n",
       "      <td>30.1</td>\n",
       "      <td>1</td>\n",
       "      <td>131</td>\n",
       "      <td>23</td>\n",
       "      <td>138</td>\n",
       "      <td>34.9</td>\n",
       "      <td>1</td>\n",
       "      <td>16.03</td>\n",
       "      <td>0.33</td>\n",
       "      <td>0.22</td>\n",
       "    </tr>\n",
       "    <tr>\n",
       "      <th>4</th>\n",
       "      <td>74</td>\n",
       "      <td>25.817016</td>\n",
       "      <td>1</td>\n",
       "      <td>172.70</td>\n",
       "      <td>77.0</td>\n",
       "      <td>0</td>\n",
       "      <td>25.0</td>\n",
       "      <td>0.93</td>\n",
       "      <td>4</td>\n",
       "      <td>6</td>\n",
       "      <td>...</td>\n",
       "      <td>34.5</td>\n",
       "      <td>0</td>\n",
       "      <td>55</td>\n",
       "      <td>12</td>\n",
       "      <td>135</td>\n",
       "      <td>36.3</td>\n",
       "      <td>0</td>\n",
       "      <td>45.80</td>\n",
       "      <td>0.12</td>\n",
       "      <td>0.05</td>\n",
       "    </tr>\n",
       "    <tr>\n",
       "      <th>...</th>\n",
       "      <td>...</td>\n",
       "      <td>...</td>\n",
       "      <td>...</td>\n",
       "      <td>...</td>\n",
       "      <td>...</td>\n",
       "      <td>...</td>\n",
       "      <td>...</td>\n",
       "      <td>...</td>\n",
       "      <td>...</td>\n",
       "      <td>...</td>\n",
       "      <td>...</td>\n",
       "      <td>...</td>\n",
       "      <td>...</td>\n",
       "      <td>...</td>\n",
       "      <td>...</td>\n",
       "      <td>...</td>\n",
       "      <td>...</td>\n",
       "      <td>...</td>\n",
       "      <td>...</td>\n",
       "      <td>...</td>\n",
       "      <td>...</td>\n",
       "    </tr>\n",
       "    <tr>\n",
       "      <th>835</th>\n",
       "      <td>73</td>\n",
       "      <td>17.943584</td>\n",
       "      <td>0</td>\n",
       "      <td>157.48</td>\n",
       "      <td>44.5</td>\n",
       "      <td>0</td>\n",
       "      <td>12.0</td>\n",
       "      <td>0.30</td>\n",
       "      <td>4</td>\n",
       "      <td>6</td>\n",
       "      <td>...</td>\n",
       "      <td>33.8</td>\n",
       "      <td>0</td>\n",
       "      <td>129</td>\n",
       "      <td>9</td>\n",
       "      <td>144</td>\n",
       "      <td>36.9</td>\n",
       "      <td>0</td>\n",
       "      <td>7.70</td>\n",
       "      <td>0.02</td>\n",
       "      <td>0.01</td>\n",
       "    </tr>\n",
       "    <tr>\n",
       "      <th>836</th>\n",
       "      <td>79</td>\n",
       "      <td>29.049732</td>\n",
       "      <td>1</td>\n",
       "      <td>167.60</td>\n",
       "      <td>81.6</td>\n",
       "      <td>0</td>\n",
       "      <td>48.0</td>\n",
       "      <td>2.19</td>\n",
       "      <td>4</td>\n",
       "      <td>6</td>\n",
       "      <td>...</td>\n",
       "      <td>42.7</td>\n",
       "      <td>0</td>\n",
       "      <td>163</td>\n",
       "      <td>9</td>\n",
       "      <td>139</td>\n",
       "      <td>36.4</td>\n",
       "      <td>0</td>\n",
       "      <td>10.77</td>\n",
       "      <td>0.06</td>\n",
       "      <td>0.03</td>\n",
       "    </tr>\n",
       "    <tr>\n",
       "      <th>837</th>\n",
       "      <td>85</td>\n",
       "      <td>24.627827</td>\n",
       "      <td>0</td>\n",
       "      <td>152.40</td>\n",
       "      <td>57.2</td>\n",
       "      <td>0</td>\n",
       "      <td>11.0</td>\n",
       "      <td>0.48</td>\n",
       "      <td>3</td>\n",
       "      <td>5</td>\n",
       "      <td>...</td>\n",
       "      <td>29.5</td>\n",
       "      <td>0</td>\n",
       "      <td>67</td>\n",
       "      <td>9</td>\n",
       "      <td>139</td>\n",
       "      <td>36.6</td>\n",
       "      <td>0</td>\n",
       "      <td>7.35</td>\n",
       "      <td>0.16</td>\n",
       "      <td>0.05</td>\n",
       "    </tr>\n",
       "    <tr>\n",
       "      <th>838</th>\n",
       "      <td>68</td>\n",
       "      <td>32.510940</td>\n",
       "      <td>1</td>\n",
       "      <td>193.00</td>\n",
       "      <td>121.1</td>\n",
       "      <td>0</td>\n",
       "      <td>14.0</td>\n",
       "      <td>0.64</td>\n",
       "      <td>4</td>\n",
       "      <td>6</td>\n",
       "      <td>...</td>\n",
       "      <td>37.5</td>\n",
       "      <td>0</td>\n",
       "      <td>61</td>\n",
       "      <td>10</td>\n",
       "      <td>140</td>\n",
       "      <td>36.9</td>\n",
       "      <td>1</td>\n",
       "      <td>16.02</td>\n",
       "      <td>0.00</td>\n",
       "      <td>0.00</td>\n",
       "    </tr>\n",
       "    <tr>\n",
       "      <th>839</th>\n",
       "      <td>48</td>\n",
       "      <td>24.106828</td>\n",
       "      <td>0</td>\n",
       "      <td>157.50</td>\n",
       "      <td>59.8</td>\n",
       "      <td>0</td>\n",
       "      <td>7.0</td>\n",
       "      <td>0.33</td>\n",
       "      <td>4</td>\n",
       "      <td>6</td>\n",
       "      <td>...</td>\n",
       "      <td>32.3</td>\n",
       "      <td>0</td>\n",
       "      <td>111</td>\n",
       "      <td>14</td>\n",
       "      <td>139</td>\n",
       "      <td>36.3</td>\n",
       "      <td>0</td>\n",
       "      <td>2.20</td>\n",
       "      <td>0.01</td>\n",
       "      <td>0.00</td>\n",
       "    </tr>\n",
       "  </tbody>\n",
       "</table>\n",
       "<p>840 rows × 24 columns</p>\n",
       "</div>"
      ],
      "text/plain": [
       "     age        bmi  gender  height  weight  arf_apache  bun_apache  \\\n",
       "0     62  32.866392       1  177.80   103.9           1        31.0   \n",
       "1     82  23.582766       0  157.50    58.5           0        26.0   \n",
       "2     61  31.684520       1  172.70    94.5           0        16.0   \n",
       "3     58  45.156250       0  160.00   115.6           0        19.0   \n",
       "4     74  25.817016       1  172.70    77.0           0        25.0   \n",
       "..   ...        ...     ...     ...     ...         ...         ...   \n",
       "835   73  17.943584       0  157.48    44.5           0        12.0   \n",
       "836   79  29.049732       1  167.60    81.6           0        48.0   \n",
       "837   85  24.627827       0  152.40    57.2           0        11.0   \n",
       "838   68  32.510940       1  193.00   121.1           0        14.0   \n",
       "839   48  24.106828       0  157.50    59.8           0         7.0   \n",
       "\n",
       "     creatinine_apache  gcs_eyes_apache  gcs_motor_apache  ...  \\\n",
       "0                10.30                4                 6  ...   \n",
       "1                 0.54                3                 4  ...   \n",
       "2                 1.11                4                 6  ...   \n",
       "3                 0.70                1                 4  ...   \n",
       "4                 0.93                4                 6  ...   \n",
       "..                 ...              ...               ...  ...   \n",
       "835               0.30                4                 6  ...   \n",
       "836               2.19                4                 6  ...   \n",
       "837               0.48                3                 5  ...   \n",
       "838               0.64                4                 6  ...   \n",
       "839               0.33                4                 6  ...   \n",
       "\n",
       "     hematocrit_apache  intubated_apache  map_apache  resprate_apache  \\\n",
       "0                 36.4                 0         157               26   \n",
       "1                 32.8                 0          42               25   \n",
       "2                 35.3                 0         129                6   \n",
       "3                 30.1                 1         131               23   \n",
       "4                 34.5                 0          55               12   \n",
       "..                 ...               ...         ...              ...   \n",
       "835               33.8                 0         129                9   \n",
       "836               42.7                 0         163                9   \n",
       "837               29.5                 0          67                9   \n",
       "838               37.5                 0          61               10   \n",
       "839               32.3                 0         111               14   \n",
       "\n",
       "     sodium_apache  temp_apache  ventilated_apache  wbc_apache  \\\n",
       "0              134         36.1                  0        4.56   \n",
       "1              142         36.1                  0        6.00   \n",
       "2              131         36.8                  0        8.59   \n",
       "3              138         34.9                  1       16.03   \n",
       "4              135         36.3                  0       45.80   \n",
       "..             ...          ...                ...         ...   \n",
       "835            144         36.9                  0        7.70   \n",
       "836            139         36.4                  0       10.77   \n",
       "837            139         36.6                  0        7.35   \n",
       "838            140         36.9                  1       16.02   \n",
       "839            139         36.3                  0        2.20   \n",
       "\n",
       "     apache_4a_hospital_death_prob  apache_4a_icu_death_prob  \n",
       "0                             0.06                      0.03  \n",
       "1                             0.14                      0.06  \n",
       "2                             0.05                      0.03  \n",
       "3                             0.33                      0.22  \n",
       "4                             0.12                      0.05  \n",
       "..                             ...                       ...  \n",
       "835                           0.02                      0.01  \n",
       "836                           0.06                      0.03  \n",
       "837                           0.16                      0.05  \n",
       "838                           0.00                      0.00  \n",
       "839                           0.01                      0.00  \n",
       "\n",
       "[840 rows x 24 columns]"
      ]
     },
     "execution_count": 386,
     "metadata": {},
     "output_type": "execute_result"
    }
   ],
   "source": [
    "x_test = pd.read_csv('hw2_input_test.csv')\n",
    "x_test"
   ]
  },
  {
   "cell_type": "markdown",
   "metadata": {
    "id": "mH-0DxyR9qWn"
   },
   "source": [
    "## Step3 : Build a Random Forest\n"
   ]
  },
  {
   "cell_type": "markdown",
   "metadata": {
    "id": "8xbLxFW597FG"
   },
   "source": [
    "Define the attributions of the random forest\n",
    "\n",
    "> - You **can** modify the values of these attributes in advanced part\n",
    "> - Each tree can have different attribute values\n",
    "> - There must be **at least** 3 decision trees in the random forest model\n",
    "> - Must use function _build_tree()_ to build a random forest model\n",
    "> - These are the parameters you can adjust :\n",
    "\n",
    "    ```\n",
    "    max_depth =\n",
    "    depth = 0\n",
    "    min_samples_split =\n",
    "\n",
    "    # total number of trees in a random forest\n",
    "    n_trees =\n",
    "\n",
    "    # number of features to train a decision tree\n",
    "    n_features =\n",
    "\n",
    "    # the ratio to select the number of instances\n",
    "    sample_size =\n",
    "    n_samples = int(training_data.shape[0] * sample_size)\n",
    "    ```\n"
   ]
  },
  {
   "cell_type": "code",
   "execution_count": 387,
   "metadata": {
    "id": "LD8ndJ8ymzG3"
   },
   "outputs": [],
   "source": [
    "# Define the attributes\n",
    "\n",
    "max_depth = 7\n",
    "min_samples_split = 3\n",
    "\n",
    "n_trees = 100\n",
    "n_features = 16\n",
    "\n",
    "sample_size = 0.6\n",
    "n_samples = int(training_data.shape[0] * sample_size)\n",
    "\n",
    "def attribute_randomize():\n",
    "  global max_depth, n_features, n_samples\n",
    "  max_depth = random.choice([3, 4, 4, 4, 5])\n",
    "  n_features = random.choice([10, 12, 14, 15, 16, 18, 20])\n",
    "  n_samples = random.choice([int(training_data.shape[0] * ss) for ss in [0.5, 0.7, 0.75, 1]])\n"
   ]
  },
  {
   "cell_type": "code",
   "execution_count": 388,
   "metadata": {
    "id": "hVl66f1aU36-"
   },
   "outputs": [],
   "source": [
    "import multiprocess as mp\n",
    "\n",
    "\n",
    "def build_forest(data: pd.DataFrame, n_trees, n_features, n_samples):\n",
    "  \"\"\"\n",
    "  This function will build a random forest.\n",
    "  args:\n",
    "  * data: all data that can be used to train a random forest\n",
    "  * n_trees: total number of tree\n",
    "  * n_features: number of features\n",
    "  * n_samples: number of instances\n",
    "  return:\n",
    "  * forest: a random forest with 'n_trees' of decision tree\n",
    "  \"\"\"\n",
    "\n",
    "  x_features = list(data.columns)\n",
    "  x_features.remove(Y_FEATURE)\n",
    "  indices = list(data.index)\n",
    "\n",
    "  forest = []\n",
    "\n",
    "  def build_partial_tree(idx):\n",
    "    part_features = random.sample(x_features, n_features)  # Get random features from all x features\n",
    "    part_features.append(Y_FEATURE)\n",
    "    part_indices = random.sample(indices, n_samples)  # Get random indices\n",
    "    tree = build_tree(data[part_features].loc[part_indices], max_depth, min_samples_split, 0)  # Reusing build_tree function\n",
    "    return tree\n",
    "\n",
    "  with mp.Pool(mp.cpu_count()) as p:\n",
    "    forest = p.map(build_partial_tree, range(n_trees))\n",
    "\n",
    "  return forest\n"
   ]
  },
  {
   "cell_type": "code",
   "execution_count": 389,
   "metadata": {
    "id": "zylo6C51m3OJ"
   },
   "outputs": [],
   "source": [
    "forest = build_forest(training_data, n_trees, n_features, n_samples)\n"
   ]
  },
  {
   "cell_type": "markdown",
   "metadata": {
    "id": "dZb6EEYnnO05"
   },
   "source": [
    "## Step4 : Make predictions with the random forest\n",
    "\n",
    "> Note: Please print the f1-score of the predictions of each decision tree\n"
   ]
  },
  {
   "cell_type": "code",
   "execution_count": 390,
   "metadata": {
    "id": "UbHMZnMDnWpG"
   },
   "outputs": [],
   "source": [
    "def make_prediction_forest(forest, data: pd.DataFrame):\n",
    "  \"\"\"\n",
    "  This function will use the pre-trained random forest to make the predictions\n",
    "  args:\n",
    "  * forest: the random forest\n",
    "  * data: the data used to predict\n",
    "  return:\n",
    "  * y_prediction: the predicted results\n",
    "  \"\"\"\n",
    "\n",
    "  y_prediction = pd.DataFrame(\n",
    "    np.zeros((data.shape[0], 1)), index=data.index, columns=[Y_FEATURE], dtype=int)\n",
    "\n",
    "  for tree in forest:\n",
    "    for index in data.index:\n",
    "      y_prediction.loc[index] += classify_data(data.loc[index], tree)\n",
    "\n",
    "  y_prediction = (y_prediction / len(forest)) >= 0.5\n",
    "  y_prediction = y_prediction.astype(int)\n",
    "\n",
    "  return y_prediction.values.flatten()\n"
   ]
  },
  {
   "cell_type": "code",
   "execution_count": 391,
   "metadata": {},
   "outputs": [
    {
     "name": "stdout",
     "output_type": "stream",
     "text": [
      "1/100 f1 score: 0.73046875\n",
      "2/100 f1 score: 0.7342430149447693\n",
      "3/100 f1 score: 0.72\n",
      "4/100 f1 score: 0.7304582210242587\n",
      "5/100 f1 score: 0.6440903054448872\n",
      "6/100 f1 score: 0.6523994811932555\n",
      "7/100 f1 score: 0.7414448669201521\n",
      "8/100 f1 score: 0.7371836469824788\n",
      "9/100 f1 score: 0.6629213483146066\n",
      "10/100 f1 score: 0.7091152815013403\n",
      "11/100 f1 score: 0.7463630613535738\n",
      "12/100 f1 score: 0.6405740378343118\n",
      "13/100 f1 score: 0.7348837209302326\n",
      "14/100 f1 score: 0.7271531886916502\n",
      "15/100 f1 score: 0.7490396927016645\n",
      "16/100 f1 score: 0.7355163727959697\n",
      "17/100 f1 score: 0.7238855622089154\n",
      "18/100 f1 score: 0.7018716577540106\n",
      "19/100 f1 score: 0.7059602649006623\n",
      "20/100 f1 score: 0.6411804158283031\n",
      "21/100 f1 score: 0.7414248021108178\n",
      "22/100 f1 score: 0.6543367346938775\n",
      "23/100 f1 score: 0.7077131258457375\n",
      "24/100 f1 score: 0.7269102990033223\n",
      "25/100 f1 score: 0.6996466431095406\n",
      "26/100 f1 score: 0.7237715803452854\n",
      "27/100 f1 score: 0.7525252525252525\n",
      "28/100 f1 score: 0.6204136090727151\n",
      "29/100 f1 score: 0.6735086593970494\n",
      "30/100 f1 score: 0.7328543435662965\n",
      "31/100 f1 score: 0.6313775510204082\n",
      "32/100 f1 score: 0.7278731836195508\n",
      "33/100 f1 score: 0.6765755053507728\n",
      "34/100 f1 score: 0.6038216560509554\n",
      "35/100 f1 score: 0.7269129287598944\n",
      "36/100 f1 score: 0.7208333333333332\n",
      "37/100 f1 score: 0.6191780821917807\n",
      "38/100 f1 score: 0.7231856133590238\n",
      "39/100 f1 score: 0.7229235880398671\n",
      "40/100 f1 score: 0.7422419252691576\n",
      "41/100 f1 score: 0.7199462726662189\n",
      "42/100 f1 score: 0.7165193745751189\n",
      "43/100 f1 score: 0.6235595390524967\n",
      "44/100 f1 score: 0.7060402684563758\n",
      "45/100 f1 score: 0.7296587926509185\n",
      "46/100 f1 score: 0.6299212598425197\n",
      "47/100 f1 score: 0.7338972023422252\n",
      "48/100 f1 score: 0.7239101717305152\n",
      "49/100 f1 score: 0.7354497354497355\n",
      "50/100 f1 score: 0.7385019710906702\n",
      "51/100 f1 score: 0.683354192740926\n",
      "52/100 f1 score: 0.7427854454203263\n",
      "53/100 f1 score: 0.6537982565379826\n",
      "54/100 f1 score: 0.732130928523714\n",
      "55/100 f1 score: 0.7458492975734354\n",
      "56/100 f1 score: 0.7329842931937172\n",
      "57/100 f1 score: 0.7235668789808917\n",
      "58/100 f1 score: 0.722860791826309\n",
      "59/100 f1 score: 0.722438391699092\n",
      "60/100 f1 score: 0.6834625322997416\n",
      "61/100 f1 score: 0.7439553626782394\n",
      "62/100 f1 score: 0.7194630872483221\n",
      "63/100 f1 score: 0.5539622641509434\n",
      "64/100 f1 score: 0.7310606060606061\n",
      "65/100 f1 score: 0.7206266318537858\n",
      "66/100 f1 score: 0.7204301075268817\n",
      "67/100 f1 score: 0.6624284806102987\n",
      "68/100 f1 score: 0.633112582781457\n",
      "69/100 f1 score: 0.7559256886611146\n",
      "70/100 f1 score: 0.7169811320754718\n",
      "71/100 f1 score: 0.7280927835051545\n",
      "72/100 f1 score: 0.7468354430379746\n",
      "73/100 f1 score: 0.7019867549668874\n",
      "74/100 f1 score: 0.7346405228758168\n",
      "75/100 f1 score: 0.7428571428571429\n",
      "76/100 f1 score: 0.7182539682539683\n",
      "77/100 f1 score: 0.7419354838709676\n",
      "78/100 f1 score: 0.7183565275016568\n",
      "79/100 f1 score: 0.7416020671834624\n",
      "80/100 f1 score: 0.7084432717678101\n",
      "81/100 f1 score: 0.7147584381204499\n",
      "82/100 f1 score: 0.7143803843605037\n",
      "83/100 f1 score: 0.7492022973835353\n",
      "84/100 f1 score: 0.6636828644501279\n",
      "85/100 f1 score: 0.7119341563786008\n",
      "86/100 f1 score: 0.7375979112271541\n",
      "87/100 f1 score: 0.7248500999333777\n",
      "88/100 f1 score: 0.7415584415584415\n",
      "89/100 f1 score: 0.7443609022556391\n",
      "90/100 f1 score: 0.7315823190262651\n",
      "91/100 f1 score: 0.7360208062418725\n",
      "92/100 f1 score: 0.7273918741808649\n",
      "93/100 f1 score: 0.7192755498059509\n",
      "94/100 f1 score: 0.7234873129472998\n",
      "95/100 f1 score: 0.745952677459527\n",
      "96/100 f1 score: 0.6982408660351827\n",
      "97/100 f1 score: 0.73989898989899\n",
      "98/100 f1 score: 0.6397919375812744\n",
      "99/100 f1 score: 0.6243718592964824\n",
      "100/100 f1 score: 0.713125845737483\n",
      "Total f1 score: 0.779016393442623\n"
     ]
    }
   ],
   "source": [
    "for tree_idx, tree in zip(range(len(forest)), forest):\n",
    "  y_pred = make_prediction(tree, x_validation)\n",
    "  f1score = calculate_score(y_validation, y_pred)\n",
    "  print(f'{tree_idx + 1}/{len(forest)} f1 score: {f1score}')\n",
    "\n",
    "y_pred = make_prediction_forest(forest, x_validation)\n",
    "f1score = calculate_score(y_validation, y_pred)\n",
    "print(f'Total f1 score: {f1score}')\n"
   ]
  },
  {
   "cell_type": "code",
   "execution_count": 392,
   "metadata": {},
   "outputs": [
    {
     "name": "stdout",
     "output_type": "stream",
     "text": [
      "best f1 score: 0.7830065359477124, 74\n"
     ]
    }
   ],
   "source": [
    "max_f1 = 0\n",
    "best_len = 0\n",
    "tot_y_prediction = pd.DataFrame(np.zeros((x_validation.shape[0], 1)), index=x_validation.index, columns=[Y_FEATURE], dtype=int)\n",
    "sum_y_prediction = pd.DataFrame(np.zeros((x_validation.shape[0], 1)), index=x_validation.index, columns=[Y_FEATURE], dtype=int)\n",
    "for i, tree in zip(range(len(forest)), forest):\n",
    "  y_prediction = pd.DataFrame(np.zeros((x_validation.shape[0], 1)), index=x_validation.index, columns=[Y_FEATURE], dtype=int)\n",
    "  for index in x_validation.index:\n",
    "    y_prediction.loc[index] += classify_data(x_validation.loc[index], tree)\n",
    "\n",
    "  sum_y_prediction += y_prediction\n",
    "  tot_y_prediction = (sum_y_prediction / (i + 1)) >= 0.5\n",
    "  tot_y_prediction = tot_y_prediction.astype(int)\n",
    "\n",
    "  f1score = calculate_score(y_validation, tot_y_prediction)\n",
    "  if (f1score > max_f1):\n",
    "    max_f1 = f1score\n",
    "    best_len = i + 1\n",
    "\n",
    "print(f'best f1 score: {max_f1}, {best_len}')\n"
   ]
  },
  {
   "cell_type": "code",
   "execution_count": null,
   "metadata": {
    "id": "Hcd70ubwgHq4"
   },
   "outputs": [],
   "source": [
    "y_pred_test = make_prediction_forest(forest, x_test)\n"
   ]
  },
  {
   "cell_type": "markdown",
   "metadata": {
    "id": "2ufa5bP9HveO"
   },
   "source": [
    "## Step5 : Write the Output File\n",
    "\n",
    "Save your predictions from the **random forest** in a csv file, named as **hw2_advanced.csv**\n"
   ]
  },
  {
   "cell_type": "code",
   "execution_count": null,
   "metadata": {
    "id": "XdAQcE41JJYB"
   },
   "outputs": [],
   "source": [
    "advanced = []\n",
    "for i in range(len(y_pred_test)):\n",
    "  advanced.append(y_pred_test[i])\n"
   ]
  },
  {
   "cell_type": "code",
   "execution_count": null,
   "metadata": {
    "id": "Pq121klSHwWO"
   },
   "outputs": [],
   "source": [
    "advanced_path = 'hw2_advanced.csv'\n",
    "pd.DataFrame(advanced).to_csv(advanced_path, header=None, index=None)\n"
   ]
  }
 ],
 "metadata": {
  "colab": {
   "collapsed_sections": [],
   "provenance": []
  },
  "kernelspec": {
   "display_name": "Python 3 (ipykernel)",
   "language": "python",
   "name": "python3"
  },
  "language_info": {
   "codemirror_mode": {
    "name": "ipython",
    "version": 3
   },
   "file_extension": ".py",
   "mimetype": "text/x-python",
   "name": "python",
   "nbconvert_exporter": "python",
   "pygments_lexer": "ipython3",
   "version": "3.9.13"
  },
  "vscode": {
   "interpreter": {
    "hash": "2a03b7e4a847289eadc10d91b928a6af0ebca04a76ecdbe7c2b643ae23f24787"
   }
  }
 },
 "nbformat": 4,
 "nbformat_minor": 1
}
